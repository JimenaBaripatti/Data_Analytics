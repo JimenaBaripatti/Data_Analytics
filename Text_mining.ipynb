{
 "cells": [
  {
   "cell_type": "code",
   "execution_count": 12,
   "metadata": {
    "collapsed": true
   },
   "outputs": [],
   "source": [
    "import pandas as pd\n",
    "import numpy as np\n",
    "import re"
   ]
  },
  {
   "cell_type": "code",
   "execution_count": 13,
   "metadata": {
    "collapsed": true
   },
   "outputs": [],
   "source": [
    "pd.set_option('display.max_colwidth', -1)"
   ]
  },
  {
   "cell_type": "markdown",
   "metadata": {},
   "source": [
    "# Text mining\n",
    "## Feature engineering\n",
    "In this work I'm going to analyse the project names of several KickStarter projects.\n",
    "You can find the data set in Kaggle: https://www.kaggle.com/kemical/kickstarter-projects/data"
   ]
  },
  {
   "cell_type": "code",
   "execution_count": 14,
   "metadata": {
    "scrolled": true
   },
   "outputs": [],
   "source": [
    "#read data\n",
    "df = pd.read_csv('data_textmining.csv', index_col=0, encoding='utf-8-sig')"
   ]
  },
  {
   "cell_type": "code",
   "execution_count": 15,
   "metadata": {
    "collapsed": true
   },
   "outputs": [],
   "source": [
    "# create safe copy\n",
    "dfname = df"
   ]
  },
  {
   "cell_type": "code",
   "execution_count": 16,
   "metadata": {},
   "outputs": [
    {
     "data": {
      "text/html": [
       "<div>\n",
       "<style>\n",
       "    .dataframe thead tr:only-child th {\n",
       "        text-align: right;\n",
       "    }\n",
       "\n",
       "    .dataframe thead th {\n",
       "        text-align: left;\n",
       "    }\n",
       "\n",
       "    .dataframe tbody tr th {\n",
       "        vertical-align: top;\n",
       "    }\n",
       "</style>\n",
       "<table border=\"1\" class=\"dataframe\">\n",
       "  <thead>\n",
       "    <tr style=\"text-align: right;\">\n",
       "      <th></th>\n",
       "      <th>name</th>\n",
       "      <th>category</th>\n",
       "      <th>main_category</th>\n",
       "      <th>currency</th>\n",
       "      <th>deadline</th>\n",
       "      <th>goal</th>\n",
       "      <th>launched</th>\n",
       "      <th>pledged</th>\n",
       "      <th>state</th>\n",
       "      <th>backers</th>\n",
       "      <th>country</th>\n",
       "      <th>date_diff</th>\n",
       "      <th>successful</th>\n",
       "      <th>rtdate</th>\n",
       "      <th>rate</th>\n",
       "      <th>goal_usd</th>\n",
       "      <th>pledged_usd</th>\n",
       "    </tr>\n",
       "  </thead>\n",
       "  <tbody>\n",
       "    <tr>\n",
       "      <th>0</th>\n",
       "      <td>The Songs of Adelaide &amp; Abullah</td>\n",
       "      <td>Poetry</td>\n",
       "      <td>Publishing</td>\n",
       "      <td>GBP</td>\n",
       "      <td>2015-10-09 00:00:00</td>\n",
       "      <td>1000.0</td>\n",
       "      <td>2015-08-11 12:12:28</td>\n",
       "      <td>0.0</td>\n",
       "      <td>failed</td>\n",
       "      <td>0</td>\n",
       "      <td>GB</td>\n",
       "      <td>58</td>\n",
       "      <td>0</td>\n",
       "      <td>2015-08-01 00:00:00</td>\n",
       "      <td>1.527486</td>\n",
       "      <td>1527.485876</td>\n",
       "      <td>0.0</td>\n",
       "    </tr>\n",
       "    <tr>\n",
       "      <th>1</th>\n",
       "      <td>Greeting From Earth: ZGAC Arts Capsule For ET</td>\n",
       "      <td>Narrative Film</td>\n",
       "      <td>Film &amp; Video</td>\n",
       "      <td>USD</td>\n",
       "      <td>2017-11-01 00:00:00</td>\n",
       "      <td>30000.0</td>\n",
       "      <td>2017-09-02 04:43:57</td>\n",
       "      <td>2421.0</td>\n",
       "      <td>failed</td>\n",
       "      <td>15</td>\n",
       "      <td>US</td>\n",
       "      <td>59</td>\n",
       "      <td>0</td>\n",
       "      <td>2017-09-01 00:00:00</td>\n",
       "      <td>1.000000</td>\n",
       "      <td>30000.000000</td>\n",
       "      <td>2421.0</td>\n",
       "    </tr>\n",
       "    <tr>\n",
       "      <th>2</th>\n",
       "      <td>Where is Hank?</td>\n",
       "      <td>Narrative Film</td>\n",
       "      <td>Film &amp; Video</td>\n",
       "      <td>USD</td>\n",
       "      <td>2013-02-26 00:00:00</td>\n",
       "      <td>45000.0</td>\n",
       "      <td>2013-01-12 00:20:50</td>\n",
       "      <td>220.0</td>\n",
       "      <td>failed</td>\n",
       "      <td>3</td>\n",
       "      <td>US</td>\n",
       "      <td>44</td>\n",
       "      <td>0</td>\n",
       "      <td>2013-01-01 00:00:00</td>\n",
       "      <td>1.000000</td>\n",
       "      <td>45000.000000</td>\n",
       "      <td>220.0</td>\n",
       "    </tr>\n",
       "    <tr>\n",
       "      <th>3</th>\n",
       "      <td>ToshiCapital Rekordz Needs Help to Complete Album</td>\n",
       "      <td>Music</td>\n",
       "      <td>Music</td>\n",
       "      <td>USD</td>\n",
       "      <td>2012-04-16 00:00:00</td>\n",
       "      <td>5000.0</td>\n",
       "      <td>2012-03-17 03:24:11</td>\n",
       "      <td>1.0</td>\n",
       "      <td>failed</td>\n",
       "      <td>1</td>\n",
       "      <td>US</td>\n",
       "      <td>29</td>\n",
       "      <td>0</td>\n",
       "      <td>2012-03-01 00:00:00</td>\n",
       "      <td>1.000000</td>\n",
       "      <td>5000.000000</td>\n",
       "      <td>1.0</td>\n",
       "    </tr>\n",
       "    <tr>\n",
       "      <th>4</th>\n",
       "      <td>Community Film Project: The Art of Neighborhood Filmmaking</td>\n",
       "      <td>Film &amp; Video</td>\n",
       "      <td>Film &amp; Video</td>\n",
       "      <td>USD</td>\n",
       "      <td>2015-08-29 00:00:00</td>\n",
       "      <td>19500.0</td>\n",
       "      <td>2015-07-04 08:35:03</td>\n",
       "      <td>1283.0</td>\n",
       "      <td>canceled</td>\n",
       "      <td>14</td>\n",
       "      <td>US</td>\n",
       "      <td>55</td>\n",
       "      <td>0</td>\n",
       "      <td>2015-07-01 00:00:00</td>\n",
       "      <td>1.000000</td>\n",
       "      <td>19500.000000</td>\n",
       "      <td>1283.0</td>\n",
       "    </tr>\n",
       "  </tbody>\n",
       "</table>\n",
       "</div>"
      ],
      "text/plain": [
       "                                                         name        category  \\\n",
       "0  The Songs of Adelaide & Abullah                             Poetry           \n",
       "1  Greeting From Earth: ZGAC Arts Capsule For ET               Narrative Film   \n",
       "2  Where is Hank?                                              Narrative Film   \n",
       "3  ToshiCapital Rekordz Needs Help to Complete Album           Music            \n",
       "4  Community Film Project: The Art of Neighborhood Filmmaking  Film & Video     \n",
       "\n",
       "  main_category currency             deadline     goal             launched  \\\n",
       "0  Publishing    GBP      2015-10-09 00:00:00  1000.0   2015-08-11 12:12:28   \n",
       "1  Film & Video  USD      2017-11-01 00:00:00  30000.0  2017-09-02 04:43:57   \n",
       "2  Film & Video  USD      2013-02-26 00:00:00  45000.0  2013-01-12 00:20:50   \n",
       "3  Music         USD      2012-04-16 00:00:00  5000.0   2012-03-17 03:24:11   \n",
       "4  Film & Video  USD      2015-08-29 00:00:00  19500.0  2015-07-04 08:35:03   \n",
       "\n",
       "   pledged     state  backers country  date_diff  successful  \\\n",
       "0  0.0      failed    0        GB      58         0            \n",
       "1  2421.0   failed    15       US      59         0            \n",
       "2  220.0    failed    3        US      44         0            \n",
       "3  1.0      failed    1        US      29         0            \n",
       "4  1283.0   canceled  14       US      55         0            \n",
       "\n",
       "                rtdate      rate      goal_usd  pledged_usd  \n",
       "0  2015-08-01 00:00:00  1.527486  1527.485876   0.0          \n",
       "1  2017-09-01 00:00:00  1.000000  30000.000000  2421.0       \n",
       "2  2013-01-01 00:00:00  1.000000  45000.000000  220.0        \n",
       "3  2012-03-01 00:00:00  1.000000  5000.000000   1.0          \n",
       "4  2015-07-01 00:00:00  1.000000  19500.000000  1283.0       "
      ]
     },
     "execution_count": 16,
     "metadata": {},
     "output_type": "execute_result"
    }
   ],
   "source": [
    "dfname.head()"
   ]
  },
  {
   "cell_type": "code",
   "execution_count": 17,
   "metadata": {
    "collapsed": true
   },
   "outputs": [],
   "source": [
    "# make sure all names are string\n",
    "dfname['name'] = dfname.name.astype(str)"
   ]
  },
  {
   "cell_type": "code",
   "execution_count": 18,
   "metadata": {
    "collapsed": true
   },
   "outputs": [],
   "source": [
    "# there are 23105  projects with (canceled) in the name\n",
    "pattern = '\\(canceled\\)'\n",
    "dfname['name'] = dfname.name.str.replace(pattern, '', n=1, case=False)"
   ]
  },
  {
   "cell_type": "code",
   "execution_count": 19,
   "metadata": {
    "collapsed": true
   },
   "outputs": [],
   "source": [
    "# there are 1060  projects with (suspended) in the name\n",
    "pattern = '\\(suspended\\)'\n",
    "dfname['name'] = dfname.name.str.replace(pattern, '', n=1, case=False)"
   ]
  },
  {
   "cell_type": "code",
   "execution_count": 20,
   "metadata": {
    "collapsed": true
   },
   "outputs": [],
   "source": [
    "#remove rare characters \n",
    "pattern = '[^A-Za-z0-9!? ]'\n",
    "dfname['name'] = dfname.name.str.replace(pattern, '')"
   ]
  },
  {
   "cell_type": "code",
   "execution_count": 21,
   "metadata": {
    "collapsed": true
   },
   "outputs": [],
   "source": [
    "pattern = '\\(\\)'\n",
    "dfname['name'] = dfname.name.str.replace(pattern, '')"
   ]
  },
  {
   "cell_type": "code",
   "execution_count": 22,
   "metadata": {
    "collapsed": true
   },
   "outputs": [],
   "source": [
    "#remove excess whitespace\n",
    "for i in range(8):\n",
    "    pattern = '  '\n",
    "    dfname['name'] = dfname.name.str.replace(pattern, ' ')"
   ]
  },
  {
   "cell_type": "code",
   "execution_count": 23,
   "metadata": {},
   "outputs": [
    {
     "data": {
      "text/plain": [
       "(378654, 17)"
      ]
     },
     "execution_count": 23,
     "metadata": {},
     "output_type": "execute_result"
    }
   ],
   "source": [
    "dfname.shape"
   ]
  },
  {
   "cell_type": "code",
   "execution_count": 24,
   "metadata": {},
   "outputs": [
    {
     "data": {
      "text/plain": [
       "-378654"
      ]
     },
     "execution_count": 24,
     "metadata": {},
     "output_type": "execute_result"
    }
   ],
   "source": [
    "pattern = '  '\n",
    "dfname.name.str.find(pattern).sum()"
   ]
  },
  {
   "cell_type": "code",
   "execution_count": 25,
   "metadata": {
    "collapsed": true
   },
   "outputs": [],
   "source": [
    "# create new feature: name length\n",
    "dfname['name_len'] = dfname.name.str.len()"
   ]
  },
  {
   "cell_type": "code",
   "execution_count": 26,
   "metadata": {
    "collapsed": true
   },
   "outputs": [],
   "source": [
    "# convert all to lowercase before split\n",
    "dfname['name_low'] = dfname.name.str.lower()"
   ]
  },
  {
   "cell_type": "code",
   "execution_count": 27,
   "metadata": {
    "collapsed": true
   },
   "outputs": [],
   "source": [
    "# get rid of ? ! before split\n",
    "pattern = '[!?]'\n",
    "dfname['name_low'] = dfname.name_low.str.replace(pattern, '')"
   ]
  },
  {
   "cell_type": "code",
   "execution_count": 28,
   "metadata": {
    "collapsed": true
   },
   "outputs": [],
   "source": [
    "# drop empty names\n",
    "dfname = dfname.drop(dfname[dfname.name_len == 0].index, axis=0)\n",
    "dfname = dfname.drop(dfname[dfname.name == ' '].index, axis=0) "
   ]
  },
  {
   "cell_type": "code",
   "execution_count": 29,
   "metadata": {
    "collapsed": true
   },
   "outputs": [],
   "source": [
    "# split each name by whitespace creating a list with words\n",
    "dfname['name_words']  = dfname.name_low.str.strip().str.split('[\\s]')"
   ]
  },
  {
   "cell_type": "code",
   "execution_count": 30,
   "metadata": {
    "collapsed": true
   },
   "outputs": [],
   "source": [
    "# create new feature: number of words in each name\n",
    "dfname['number_words']  =  dfname.name_words.str.len()"
   ]
  },
  {
   "cell_type": "code",
   "execution_count": 31,
   "metadata": {},
   "outputs": [
    {
     "data": {
      "text/plain": [
       "0"
      ]
     },
     "execution_count": 31,
     "metadata": {},
     "output_type": "execute_result"
    }
   ],
   "source": [
    "dfname.name_words.isnull().sum()"
   ]
  },
  {
   "cell_type": "markdown",
   "metadata": {},
   "source": [
    "## Word count\n",
    "** I want to know how many times each word is used in successful or failed projects.**"
   ]
  },
  {
   "cell_type": "code",
   "execution_count": 32,
   "metadata": {
    "collapsed": true
   },
   "outputs": [],
   "source": [
    "# create a safe copy\n",
    "table2 = dfname"
   ]
  },
  {
   "cell_type": "code",
   "execution_count": 33,
   "metadata": {},
   "outputs": [
    {
     "data": {
      "text/html": [
       "<div>\n",
       "<style>\n",
       "    .dataframe thead tr:only-child th {\n",
       "        text-align: right;\n",
       "    }\n",
       "\n",
       "    .dataframe thead th {\n",
       "        text-align: left;\n",
       "    }\n",
       "\n",
       "    .dataframe tbody tr th {\n",
       "        vertical-align: top;\n",
       "    }\n",
       "</style>\n",
       "<table border=\"1\" class=\"dataframe\">\n",
       "  <thead>\n",
       "    <tr style=\"text-align: right;\">\n",
       "      <th></th>\n",
       "      <th>successful</th>\n",
       "      <th>word</th>\n",
       "    </tr>\n",
       "  </thead>\n",
       "  <tbody>\n",
       "    <tr>\n",
       "      <th>0</th>\n",
       "      <td>0</td>\n",
       "      <td>the</td>\n",
       "    </tr>\n",
       "    <tr>\n",
       "      <th>1</th>\n",
       "      <td>0</td>\n",
       "      <td>songs</td>\n",
       "    </tr>\n",
       "    <tr>\n",
       "      <th>2</th>\n",
       "      <td>0</td>\n",
       "      <td>of</td>\n",
       "    </tr>\n",
       "    <tr>\n",
       "      <th>3</th>\n",
       "      <td>0</td>\n",
       "      <td>adelaide</td>\n",
       "    </tr>\n",
       "    <tr>\n",
       "      <th>4</th>\n",
       "      <td>0</td>\n",
       "      <td>abullah</td>\n",
       "    </tr>\n",
       "  </tbody>\n",
       "</table>\n",
       "</div>"
      ],
      "text/plain": [
       "   successful      word\n",
       "0  0           the     \n",
       "1  0           songs   \n",
       "2  0           of      \n",
       "3  0           adelaide\n",
       "4  0           abullah "
      ]
     },
     "execution_count": 33,
     "metadata": {},
     "output_type": "execute_result"
    }
   ],
   "source": [
    "rows= list()\n",
    "for row in table2[['successful', 'name_words']].iterrows():\n",
    "    r = row[1]\n",
    "    for word in r.name_words:\n",
    "        rows.append((r.successful, word))\n",
    "        \n",
    "words = pd.DataFrame(rows, columns=['successful', 'word'])\n",
    "words.head()"
   ]
  },
  {
   "cell_type": "code",
   "execution_count": 34,
   "metadata": {
    "collapsed": true
   },
   "outputs": [],
   "source": [
    "# drop empty words\n",
    "words = words.drop(words[words.word == ''].index, axis=0)"
   ]
  },
  {
   "cell_type": "code",
   "execution_count": 35,
   "metadata": {
    "collapsed": true
   },
   "outputs": [],
   "source": [
    "# pivot table\n",
    "count_words = words.pivot_table(index = 'word', columns='successful',aggfunc=np.size)"
   ]
  },
  {
   "cell_type": "code",
   "execution_count": 42,
   "metadata": {},
   "outputs": [
    {
     "data": {
      "text/html": [
       "<div>\n",
       "<style>\n",
       "    .dataframe thead tr:only-child th {\n",
       "        text-align: right;\n",
       "    }\n",
       "\n",
       "    .dataframe thead th {\n",
       "        text-align: left;\n",
       "    }\n",
       "\n",
       "    .dataframe tbody tr th {\n",
       "        vertical-align: top;\n",
       "    }\n",
       "</style>\n",
       "<table border=\"1\" class=\"dataframe\">\n",
       "  <thead>\n",
       "    <tr style=\"text-align: right;\">\n",
       "      <th>successful</th>\n",
       "      <th>0</th>\n",
       "      <th>1</th>\n",
       "      <th>prop_successful</th>\n",
       "      <th>prop_failed</th>\n",
       "      <th>diff</th>\n",
       "    </tr>\n",
       "    <tr>\n",
       "      <th>word</th>\n",
       "      <th></th>\n",
       "      <th></th>\n",
       "      <th></th>\n",
       "      <th></th>\n",
       "      <th></th>\n",
       "    </tr>\n",
       "  </thead>\n",
       "  <tbody>\n",
       "    <tr>\n",
       "      <th>the</th>\n",
       "      <td>127362.0</td>\n",
       "      <td>82720.0</td>\n",
       "      <td>0.603611</td>\n",
       "      <td>0.527143</td>\n",
       "      <td>0.076467</td>\n",
       "    </tr>\n",
       "    <tr>\n",
       "      <th>a</th>\n",
       "      <td>59404.0</td>\n",
       "      <td>42984.0</td>\n",
       "      <td>0.313656</td>\n",
       "      <td>0.245869</td>\n",
       "      <td>0.067786</td>\n",
       "    </tr>\n",
       "    <tr>\n",
       "      <th>of</th>\n",
       "      <td>46576.0</td>\n",
       "      <td>28572.0</td>\n",
       "      <td>0.208491</td>\n",
       "      <td>0.192775</td>\n",
       "      <td>0.015716</td>\n",
       "    </tr>\n",
       "    <tr>\n",
       "      <th>and</th>\n",
       "      <td>32742.0</td>\n",
       "      <td>18362.0</td>\n",
       "      <td>0.133988</td>\n",
       "      <td>0.135517</td>\n",
       "      <td>-0.001529</td>\n",
       "    </tr>\n",
       "    <tr>\n",
       "      <th>for</th>\n",
       "      <td>31512.0</td>\n",
       "      <td>16790.0</td>\n",
       "      <td>0.122517</td>\n",
       "      <td>0.130426</td>\n",
       "      <td>-0.007909</td>\n",
       "    </tr>\n",
       "  </tbody>\n",
       "</table>\n",
       "</div>"
      ],
      "text/plain": [
       "successful         0        1  prop_successful  prop_failed      diff\n",
       "word                                                                 \n",
       "the         127362.0  82720.0  0.603611         0.527143     0.076467\n",
       "a           59404.0   42984.0  0.313656         0.245869     0.067786\n",
       "of          46576.0   28572.0  0.208491         0.192775     0.015716\n",
       "and         32742.0   18362.0  0.133988         0.135517    -0.001529\n",
       "for         31512.0   16790.0  0.122517         0.130426    -0.007909"
      ]
     },
     "execution_count": 42,
     "metadata": {},
     "output_type": "execute_result"
    }
   ],
   "source": [
    "count_words = count_words.sort_values(1, ascending=False)\n",
    "count_words.head()"
   ]
  },
  {
   "cell_type": "code",
   "execution_count": 38,
   "metadata": {
    "collapsed": true
   },
   "outputs": [],
   "source": [
    "# save to csv for further analysis\n",
    "count_words.to_csv('count_words.csv', encoding='utf-8-sig')"
   ]
  },
  {
   "cell_type": "code",
   "execution_count": 39,
   "metadata": {
    "collapsed": true
   },
   "outputs": [],
   "source": [
    "# create new features\n",
    "n_successful = len(dfname[dfname.successful == 1])\n",
    "\n",
    "n_failed = len(dfname[dfname.successful == 0])\n",
    "\n",
    "count_words['prop_successful'] = count_words[1] / n_successful\n",
    "\n",
    "count_words['prop_failed'] = count_words[0] / n_failed"
   ]
  },
  {
   "cell_type": "code",
   "execution_count": 40,
   "metadata": {
    "collapsed": true
   },
   "outputs": [],
   "source": [
    "count_words['diff'] = count_words['prop_successful'] - count_words['prop_failed']"
   ]
  },
  {
   "cell_type": "code",
   "execution_count": 43,
   "metadata": {},
   "outputs": [
    {
     "data": {
      "text/html": [
       "<div>\n",
       "<style>\n",
       "    .dataframe thead tr:only-child th {\n",
       "        text-align: right;\n",
       "    }\n",
       "\n",
       "    .dataframe thead th {\n",
       "        text-align: left;\n",
       "    }\n",
       "\n",
       "    .dataframe tbody tr th {\n",
       "        vertical-align: top;\n",
       "    }\n",
       "</style>\n",
       "<table border=\"1\" class=\"dataframe\">\n",
       "  <thead>\n",
       "    <tr style=\"text-align: right;\">\n",
       "      <th>successful</th>\n",
       "      <th>0</th>\n",
       "      <th>1</th>\n",
       "      <th>prop_successful</th>\n",
       "      <th>prop_failed</th>\n",
       "      <th>diff</th>\n",
       "    </tr>\n",
       "    <tr>\n",
       "      <th>word</th>\n",
       "      <th></th>\n",
       "      <th></th>\n",
       "      <th></th>\n",
       "      <th></th>\n",
       "      <th></th>\n",
       "    </tr>\n",
       "  </thead>\n",
       "  <tbody>\n",
       "    <tr>\n",
       "      <th>the</th>\n",
       "      <td>127362.0</td>\n",
       "      <td>82720.0</td>\n",
       "      <td>0.603611</td>\n",
       "      <td>0.527143</td>\n",
       "      <td>0.076467</td>\n",
       "    </tr>\n",
       "    <tr>\n",
       "      <th>album</th>\n",
       "      <td>11628.0</td>\n",
       "      <td>16426.0</td>\n",
       "      <td>0.119861</td>\n",
       "      <td>0.048128</td>\n",
       "      <td>0.071734</td>\n",
       "    </tr>\n",
       "    <tr>\n",
       "      <th>a</th>\n",
       "      <td>59404.0</td>\n",
       "      <td>42984.0</td>\n",
       "      <td>0.313656</td>\n",
       "      <td>0.245869</td>\n",
       "      <td>0.067786</td>\n",
       "    </tr>\n",
       "    <tr>\n",
       "      <th>new</th>\n",
       "      <td>13696.0</td>\n",
       "      <td>14036.0</td>\n",
       "      <td>0.102421</td>\n",
       "      <td>0.056687</td>\n",
       "      <td>0.045734</td>\n",
       "    </tr>\n",
       "    <tr>\n",
       "      <th>film</th>\n",
       "      <td>11618.0</td>\n",
       "      <td>11644.0</td>\n",
       "      <td>0.084967</td>\n",
       "      <td>0.048086</td>\n",
       "      <td>0.036880</td>\n",
       "    </tr>\n",
       "    <tr>\n",
       "      <th>debut</th>\n",
       "      <td>3840.0</td>\n",
       "      <td>6138.0</td>\n",
       "      <td>0.044789</td>\n",
       "      <td>0.015894</td>\n",
       "      <td>0.028896</td>\n",
       "    </tr>\n",
       "    <tr>\n",
       "      <th>by</th>\n",
       "      <td>10274.0</td>\n",
       "      <td>9764.0</td>\n",
       "      <td>0.071248</td>\n",
       "      <td>0.042523</td>\n",
       "      <td>0.028725</td>\n",
       "    </tr>\n",
       "    <tr>\n",
       "      <th>short</th>\n",
       "      <td>4620.0</td>\n",
       "      <td>6236.0</td>\n",
       "      <td>0.045504</td>\n",
       "      <td>0.019122</td>\n",
       "      <td>0.026382</td>\n",
       "    </tr>\n",
       "    <tr>\n",
       "      <th>ep</th>\n",
       "      <td>4056.0</td>\n",
       "      <td>5692.0</td>\n",
       "      <td>0.041535</td>\n",
       "      <td>0.016788</td>\n",
       "      <td>0.024747</td>\n",
       "    </tr>\n",
       "    <tr>\n",
       "      <th>record</th>\n",
       "      <td>2028.0</td>\n",
       "      <td>3420.0</td>\n",
       "      <td>0.024956</td>\n",
       "      <td>0.008394</td>\n",
       "      <td>0.016562</td>\n",
       "    </tr>\n",
       "    <tr>\n",
       "      <th>of</th>\n",
       "      <td>46576.0</td>\n",
       "      <td>28572.0</td>\n",
       "      <td>0.208491</td>\n",
       "      <td>0.192775</td>\n",
       "      <td>0.015716</td>\n",
       "    </tr>\n",
       "    <tr>\n",
       "      <th>first</th>\n",
       "      <td>7334.0</td>\n",
       "      <td>5872.0</td>\n",
       "      <td>0.042848</td>\n",
       "      <td>0.030355</td>\n",
       "      <td>0.012493</td>\n",
       "    </tr>\n",
       "    <tr>\n",
       "      <th>at</th>\n",
       "      <td>3908.0</td>\n",
       "      <td>3864.0</td>\n",
       "      <td>0.028196</td>\n",
       "      <td>0.016175</td>\n",
       "      <td>0.012021</td>\n",
       "    </tr>\n",
       "    <tr>\n",
       "      <th>in</th>\n",
       "      <td>21820.0</td>\n",
       "      <td>13920.0</td>\n",
       "      <td>0.101575</td>\n",
       "      <td>0.090312</td>\n",
       "      <td>0.011263</td>\n",
       "    </tr>\n",
       "    <tr>\n",
       "      <th>2</th>\n",
       "      <td>3486.0</td>\n",
       "      <td>3516.0</td>\n",
       "      <td>0.025656</td>\n",
       "      <td>0.014428</td>\n",
       "      <td>0.011228</td>\n",
       "    </tr>\n",
       "    <tr>\n",
       "      <th>cd</th>\n",
       "      <td>2812.0</td>\n",
       "      <td>3090.0</td>\n",
       "      <td>0.022548</td>\n",
       "      <td>0.011639</td>\n",
       "      <td>0.010909</td>\n",
       "    </tr>\n",
       "    <tr>\n",
       "      <th>an</th>\n",
       "      <td>8432.0</td>\n",
       "      <td>6196.0</td>\n",
       "      <td>0.045212</td>\n",
       "      <td>0.034900</td>\n",
       "      <td>0.010313</td>\n",
       "    </tr>\n",
       "    <tr>\n",
       "      <th>festival</th>\n",
       "      <td>2176.0</td>\n",
       "      <td>2620.0</td>\n",
       "      <td>0.019118</td>\n",
       "      <td>0.009006</td>\n",
       "      <td>0.010112</td>\n",
       "    </tr>\n",
       "    <tr>\n",
       "      <th>edition</th>\n",
       "      <td>1512.0</td>\n",
       "      <td>2104.0</td>\n",
       "      <td>0.015353</td>\n",
       "      <td>0.006258</td>\n",
       "      <td>0.009095</td>\n",
       "    </tr>\n",
       "    <tr>\n",
       "      <th>book</th>\n",
       "      <td>11708.0</td>\n",
       "      <td>7872.0</td>\n",
       "      <td>0.057442</td>\n",
       "      <td>0.048459</td>\n",
       "      <td>0.008984</td>\n",
       "    </tr>\n",
       "    <tr>\n",
       "      <th>tour</th>\n",
       "      <td>3528.0</td>\n",
       "      <td>3198.0</td>\n",
       "      <td>0.023336</td>\n",
       "      <td>0.014602</td>\n",
       "      <td>0.008734</td>\n",
       "    </tr>\n",
       "    <tr>\n",
       "      <th>presents</th>\n",
       "      <td>1196.0</td>\n",
       "      <td>1838.0</td>\n",
       "      <td>0.013412</td>\n",
       "      <td>0.004950</td>\n",
       "      <td>0.008462</td>\n",
       "    </tr>\n",
       "    <tr>\n",
       "      <th>1</th>\n",
       "      <td>4032.0</td>\n",
       "      <td>3440.0</td>\n",
       "      <td>0.025102</td>\n",
       "      <td>0.016688</td>\n",
       "      <td>0.008414</td>\n",
       "    </tr>\n",
       "    <tr>\n",
       "      <th>cards</th>\n",
       "      <td>2792.0</td>\n",
       "      <td>2722.0</td>\n",
       "      <td>0.019863</td>\n",
       "      <td>0.011556</td>\n",
       "      <td>0.008307</td>\n",
       "    </tr>\n",
       "    <tr>\n",
       "      <th>dance</th>\n",
       "      <td>1634.0</td>\n",
       "      <td>2052.0</td>\n",
       "      <td>0.014974</td>\n",
       "      <td>0.006763</td>\n",
       "      <td>0.008210</td>\n",
       "    </tr>\n",
       "    <tr>\n",
       "      <th>release</th>\n",
       "      <td>1642.0</td>\n",
       "      <td>1934.0</td>\n",
       "      <td>0.014112</td>\n",
       "      <td>0.006796</td>\n",
       "      <td>0.007316</td>\n",
       "    </tr>\n",
       "    <tr>\n",
       "      <th>from</th>\n",
       "      <td>6524.0</td>\n",
       "      <td>4690.0</td>\n",
       "      <td>0.034223</td>\n",
       "      <td>0.027002</td>\n",
       "      <td>0.007221</td>\n",
       "    </tr>\n",
       "    <tr>\n",
       "      <th>issue</th>\n",
       "      <td>876.0</td>\n",
       "      <td>1476.0</td>\n",
       "      <td>0.010770</td>\n",
       "      <td>0.003626</td>\n",
       "      <td>0.007145</td>\n",
       "    </tr>\n",
       "    <tr>\n",
       "      <th>playing</th>\n",
       "      <td>1868.0</td>\n",
       "      <td>2034.0</td>\n",
       "      <td>0.014842</td>\n",
       "      <td>0.007732</td>\n",
       "      <td>0.007111</td>\n",
       "    </tr>\n",
       "    <tr>\n",
       "      <th>enamel</th>\n",
       "      <td>720.0</td>\n",
       "      <td>1336.0</td>\n",
       "      <td>0.009749</td>\n",
       "      <td>0.002980</td>\n",
       "      <td>0.006769</td>\n",
       "    </tr>\n",
       "  </tbody>\n",
       "</table>\n",
       "</div>"
      ],
      "text/plain": [
       "successful         0        1  prop_successful  prop_failed      diff\n",
       "word                                                                 \n",
       "the         127362.0  82720.0  0.603611         0.527143     0.076467\n",
       "album       11628.0   16426.0  0.119861         0.048128     0.071734\n",
       "a           59404.0   42984.0  0.313656         0.245869     0.067786\n",
       "new         13696.0   14036.0  0.102421         0.056687     0.045734\n",
       "film        11618.0   11644.0  0.084967         0.048086     0.036880\n",
       "debut       3840.0    6138.0   0.044789         0.015894     0.028896\n",
       "by          10274.0   9764.0   0.071248         0.042523     0.028725\n",
       "short       4620.0    6236.0   0.045504         0.019122     0.026382\n",
       "ep          4056.0    5692.0   0.041535         0.016788     0.024747\n",
       "record      2028.0    3420.0   0.024956         0.008394     0.016562\n",
       "of          46576.0   28572.0  0.208491         0.192775     0.015716\n",
       "first       7334.0    5872.0   0.042848         0.030355     0.012493\n",
       "at          3908.0    3864.0   0.028196         0.016175     0.012021\n",
       "in          21820.0   13920.0  0.101575         0.090312     0.011263\n",
       "2           3486.0    3516.0   0.025656         0.014428     0.011228\n",
       "cd          2812.0    3090.0   0.022548         0.011639     0.010909\n",
       "an          8432.0    6196.0   0.045212         0.034900     0.010313\n",
       "festival    2176.0    2620.0   0.019118         0.009006     0.010112\n",
       "edition     1512.0    2104.0   0.015353         0.006258     0.009095\n",
       "book        11708.0   7872.0   0.057442         0.048459     0.008984\n",
       "tour        3528.0    3198.0   0.023336         0.014602     0.008734\n",
       "presents    1196.0    1838.0   0.013412         0.004950     0.008462\n",
       "1           4032.0    3440.0   0.025102         0.016688     0.008414\n",
       "cards       2792.0    2722.0   0.019863         0.011556     0.008307\n",
       "dance       1634.0    2052.0   0.014974         0.006763     0.008210\n",
       "release     1642.0    1934.0   0.014112         0.006796     0.007316\n",
       "from        6524.0    4690.0   0.034223         0.027002     0.007221\n",
       "issue       876.0     1476.0   0.010770         0.003626     0.007145\n",
       "playing     1868.0    2034.0   0.014842         0.007732     0.007111\n",
       "enamel      720.0     1336.0   0.009749         0.002980     0.006769"
      ]
     },
     "execution_count": 43,
     "metadata": {},
     "output_type": "execute_result"
    }
   ],
   "source": [
    "# which words are more used in successful projects than in failed projects?\n",
    "sorted_bydiff = count_words.sort_values(by='diff', ascending=False)\n",
    "sorted_bydiff[:30]"
   ]
  },
  {
   "cell_type": "code",
   "execution_count": null,
   "metadata": {
    "collapsed": true
   },
   "outputs": [],
   "source": []
  }
 ],
 "metadata": {
  "kernelspec": {
   "display_name": "Python 3",
   "language": "python",
   "name": "python3"
  },
  "language_info": {
   "codemirror_mode": {
    "name": "ipython",
    "version": 3
   },
   "file_extension": ".py",
   "mimetype": "text/x-python",
   "name": "python",
   "nbconvert_exporter": "python",
   "pygments_lexer": "ipython3",
   "version": "3.6.3"
  }
 },
 "nbformat": 4,
 "nbformat_minor": 2
}
