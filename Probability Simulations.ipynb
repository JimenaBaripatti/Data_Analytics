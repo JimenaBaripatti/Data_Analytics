{
 "cells": [
  {
   "cell_type": "markdown",
   "metadata": {},
   "source": [
    "# Probability simulations\n",
    "## Ace of club wins\n",
    "# Monty Hall problem"
   ]
  },
  {
   "cell_type": "code",
   "execution_count": 1,
   "metadata": {
    "collapsed": true
   },
   "outputs": [],
   "source": [
    "import random\n",
    "import pandas as pd\n",
    "import numpy as np\n",
    "%matplotlib inline\n",
    "import matplotlib.pyplot as plt"
   ]
  },
  {
   "cell_type": "markdown",
   "metadata": {},
   "source": [
    "# Ace of club wins"
   ]
  },
  {
   "cell_type": "markdown",
   "metadata": {},
   "source": [
    "Consider the following card game with a wellshuffled\n",
    "deck of cards. If you draw a red card, you win nothing. If you\n",
    "get a spade, you win \\$5. For any club, you win \\$10 plus an extra \\$20\n",
    "for the ace of clubs."
   ]
  },
  {
   "cell_type": "markdown",
   "metadata": {},
   "source": [
    "* Create a probability model for the amount you win at this game.\n",
    "* Find the expected winnings for a single game and the standard deviation of the winnings."
   ]
  },
  {
   "cell_type": "code",
   "execution_count": 2,
   "metadata": {
    "collapsed": true
   },
   "outputs": [],
   "source": [
    "ncards  = 52\n",
    "nred = 26\n",
    "nsuit = 13"
   ]
  },
  {
   "cell_type": "code",
   "execution_count": 3,
   "metadata": {
    "collapsed": true
   },
   "outputs": [],
   "source": [
    "p_redcard = nred/ncards\n",
    "\n",
    "p_spade = nsuit / ncards\n",
    "\n",
    "#p_club_notace probability of picking a club but not an ace\n",
    "p_club_notace = (nsuit - 1) / ncards\n",
    "\n",
    "p_ace_club = 1 / ncards"
   ]
  },
  {
   "cell_type": "code",
   "execution_count": 4,
   "metadata": {},
   "outputs": [
    {
     "data": {
      "text/plain": [
       "0     0.500000\n",
       "5     0.250000\n",
       "10    0.230769\n",
       "30    0.019231\n",
       "dtype: float64"
      ]
     },
     "execution_count": 4,
     "metadata": {},
     "output_type": "execute_result"
    }
   ],
   "source": [
    "prob_model = pd.Series(data=[p_redcard, p_spade, p_club_notace, p_ace_club], index = [0, 5, 10, 30])\n",
    "prob_model"
   ]
  },
  {
   "cell_type": "code",
   "execution_count": 5,
   "metadata": {},
   "outputs": [
    {
     "data": {
      "text/plain": [
       "1.0"
      ]
     },
     "execution_count": 5,
     "metadata": {},
     "output_type": "execute_result"
    }
   ],
   "source": [
    "# the sum of the probabilities of all possible events is 1\n",
    "prob_model.sum()"
   ]
  },
  {
   "cell_type": "code",
   "execution_count": 6,
   "metadata": {},
   "outputs": [
    {
     "data": {
      "text/plain": [
       "4.134615384615385"
      ]
     },
     "execution_count": 6,
     "metadata": {},
     "output_type": "execute_result"
    }
   ],
   "source": [
    "# expected winnings\n",
    "prizes = np.array([0, 5, 10, 30])\n",
    "prob = np.array([p_redcard, p_spade, p_club_notace, p_ace_club])\n",
    "E = prizes * prob\n",
    "E = E.sum()\n",
    "E"
   ]
  },
  {
   "cell_type": "code",
   "execution_count": 7,
   "metadata": {},
   "outputs": [
    {
     "data": {
      "text/plain": [
       "5.4350318311779153"
      ]
     },
     "execution_count": 7,
     "metadata": {},
     "output_type": "execute_result"
    }
   ],
   "source": [
    "# standard deviation of the winnings\n",
    "Var = np.sum(np.square(prizes - E) * prob)\n",
    "SD = np.sqrt(Var)\n",
    "SD"
   ]
  },
  {
   "cell_type": "markdown",
   "metadata": {},
   "source": [
    "### What is the maximum amount you would be willing to pay to play this game?\n",
    "** If I had enough money to play this game many many times I would bet up to \\$4.13, since if I bet any more I will lose money in the long run.**"
   ]
  },
  {
   "cell_type": "markdown",
   "metadata": {},
   "source": [
    "## Simulation"
   ]
  },
  {
   "cell_type": "code",
   "execution_count": 8,
   "metadata": {
    "collapsed": true
   },
   "outputs": [],
   "source": [
    "def getcard():\n",
    "    cardfaces = []\n",
    "    suits = ['diamond', 'heart', 'spade','club']\n",
    "    royals = ['J', 'Q', 'K', 'A']\n",
    "    for i in range(2, 11):\n",
    "        cardfaces.append(str(i))\n",
    "\n",
    "    cardfaces = cardfaces + royals\n",
    "    c = np.random.choice(cardfaces)\n",
    "    s = np.random.choice(suits)\n",
    "    card = c + ' of ' + s\n",
    "    if s in['diamond', 'heart']:\n",
    "        win = 0\n",
    "    elif s == 'spade':\n",
    "        win = 5\n",
    "    elif card == 'A of club':\n",
    "        win= 30\n",
    "    else:\n",
    "        win = 10\n",
    "    return win"
   ]
  },
  {
   "cell_type": "code",
   "execution_count": 9,
   "metadata": {
    "collapsed": true
   },
   "outputs": [],
   "source": [
    "def simulate(nrep):\n",
    "    prize = np.arange(nrep)\n",
    "    for i in range(nrep):\n",
    "        prize[i] = getcard()\n",
    "    return prize"
   ]
  },
  {
   "cell_type": "code",
   "execution_count": 10,
   "metadata": {
    "collapsed": true
   },
   "outputs": [],
   "source": [
    "winnings = simulate(100000)"
   ]
  },
  {
   "cell_type": "code",
   "execution_count": 11,
   "metadata": {},
   "outputs": [
    {
     "data": {
      "text/plain": [
       "0     0.50051\n",
       "5     0.24818\n",
       "10    0.23203\n",
       "30    0.01928\n",
       "dtype: float64"
      ]
     },
     "execution_count": 11,
     "metadata": {},
     "output_type": "execute_result"
    }
   ],
   "source": [
    "# probability model\n",
    "unique, counts = np.unique(winnings, return_counts = True)\n",
    "probability = counts / len(winnings)\n",
    "probability_model = pd.Series(data=probability, index=unique)\n",
    "probability_model"
   ]
  },
  {
   "cell_type": "code",
   "execution_count": 12,
   "metadata": {},
   "outputs": [
    {
     "data": {
      "text/plain": [
       "4.1395999999999997"
      ]
     },
     "execution_count": 12,
     "metadata": {},
     "output_type": "execute_result"
    }
   ],
   "source": [
    "# expected winnings\n",
    "E = np.sum(winnings) / len(winnings)\n",
    "E"
   ]
  },
  {
   "cell_type": "code",
   "execution_count": 13,
   "metadata": {},
   "outputs": [
    {
     "data": {
      "text/plain": [
       "5.4427209959725111"
      ]
     },
     "execution_count": 13,
     "metadata": {},
     "output_type": "execute_result"
    }
   ],
   "source": [
    "# standard deviation of the winnings\n",
    "np.std(winnings)"
   ]
  },
  {
   "cell_type": "code",
   "execution_count": 14,
   "metadata": {},
   "outputs": [
    {
     "data": {
      "image/png": "[encoded data removed]",
      "text/plain": [
       "<matplotlib.figure.Figure at 0x199eeb247b8>"
      ]
     },
     "metadata": {},
     "output_type": "display_data"
    }
   ],
   "source": [
    "plt.hist(winnings, bins='auto')\n",
    "plt.title(\"Data Simulation\")\n",
    "plt.ylabel('Number of trials')\n",
    "plt.xlabel('Prize')\n",
    "plt.show()"
   ]
  },
  {
   "cell_type": "markdown",
   "metadata": {},
   "source": [
    "## Risk and preferences\n",
    "** What is the maximum amount you would be willing to pay to play this game?** <br>\n",
    "The expected prize is \\$4.14 for a large number of trials but I do not have enough money to try so  many times. Since that, I would like to know the evolution of the expected prize with the number of trials."
   ]
  },
  {
   "cell_type": "code",
   "execution_count": 15,
   "metadata": {
    "collapsed": true
   },
   "outputs": [],
   "source": [
    "n = 200\n",
    "trials = range(1,n)\n",
    "expected_prize = np.zeros(n)\n",
    "for i in trials:\n",
    "    winnings = simulate(i)\n",
    "    e = np.sum(winnings) / len(winnings)\n",
    "    expected_prize[i] = e"
   ]
  },
  {
   "cell_type": "code",
   "execution_count": 16,
   "metadata": {},
   "outputs": [
    {
     "data": {
      "image/png": "[encoded data removed]",
      "text/plain": [
       "<matplotlib.figure.Figure at 0x199eeb02dd8>"
      ]
     },
     "metadata": {},
     "output_type": "display_data"
    }
   ],
   "source": [
    "plt.plot(expected_prize)\n",
    "plt.title(\"Expected prize vs number of trials\")\n",
    "plt.xlabel('Number of trials')\n",
    "plt.ylabel('Expected Prize')\n",
    "plt.show()"
   ]
  },
  {
   "cell_type": "code",
   "execution_count": 17,
   "metadata": {},
   "outputs": [
    {
     "data": {
      "text/plain": [
       "4.0499999999999998"
      ]
     },
     "execution_count": 17,
     "metadata": {},
     "output_type": "execute_result"
    }
   ],
   "source": [
    "expected_prize[100]"
   ]
  },
  {
   "cell_type": "markdown",
   "metadata": {},
   "source": [
    "I am willing to pay 3.50 dollars to play this game because the expected prize for 100 trials (\\$400) is aprox 4 dolar. "
   ]
  },
  {
   "cell_type": "markdown",
   "metadata": {},
   "source": [
    "# Monty Hall problem"
   ]
  },
  {
   "cell_type": "code",
   "execution_count": 18,
   "metadata": {
    "collapsed": true
   },
   "outputs": [],
   "source": [
    "ntrial= 10000\n",
    "\n",
    "def stay():\n",
    "    \n",
    "    result = np.arange(ntrial)\n",
    "    for i in range(ntrial):\n",
    "        doors = ['1', '2', '3']\n",
    "        car = random.choice(doors)\n",
    "        choice = random.choice(doors)\n",
    "        if car == choice:\n",
    "            result[i] = 1\n",
    "        else:\n",
    "            result[i] = 0\n",
    "    return result\n",
    "\n",
    "def switch():\n",
    "    \n",
    "    result = np.arange(ntrial)\n",
    "    for i in range(ntrial):\n",
    "        doors = ['1', '2', '3']\n",
    "        car = random.choice(doors)\n",
    "        choice = random.choice(doors)\n",
    "        \n",
    "        if car == choice: \n",
    "            result[i] = 0 #because the player will change the door\n",
    "        else:\n",
    "            result[i] = 1 # if the car is not in the 1st door, \n",
    "                          # and we know it is not in the monty door, it will be in 3rd door.\n",
    "    return result"
   ]
  },
  {
   "cell_type": "code",
   "execution_count": 19,
   "metadata": {
    "collapsed": true
   },
   "outputs": [],
   "source": [
    "stay_result = stay()\n",
    "switch_result = switch()"
   ]
  },
  {
   "cell_type": "code",
   "execution_count": 20,
   "metadata": {},
   "outputs": [
    {
     "data": {
      "text/html": [
       "<div>\n",
       "<style>\n",
       "    .dataframe thead tr:only-child th {\n",
       "        text-align: right;\n",
       "    }\n",
       "\n",
       "    .dataframe thead th {\n",
       "        text-align: left;\n",
       "    }\n",
       "\n",
       "    .dataframe tbody tr th {\n",
       "        vertical-align: top;\n",
       "    }\n",
       "</style>\n",
       "<table border=\"1\" class=\"dataframe\">\n",
       "  <thead>\n",
       "    <tr style=\"text-align: right;\">\n",
       "      <th></th>\n",
       "      <th>Lose</th>\n",
       "      <th>Win</th>\n",
       "    </tr>\n",
       "  </thead>\n",
       "  <tbody>\n",
       "    <tr>\n",
       "      <th>Stay</th>\n",
       "      <td>6746</td>\n",
       "      <td>3254</td>\n",
       "    </tr>\n",
       "    <tr>\n",
       "      <th>Switch</th>\n",
       "      <td>3311</td>\n",
       "      <td>6689</td>\n",
       "    </tr>\n",
       "  </tbody>\n",
       "</table>\n",
       "</div>"
      ],
      "text/plain": [
       "        Lose   Win\n",
       "Stay    6746  3254\n",
       "Switch  3311  6689"
      ]
     },
     "execution_count": 20,
     "metadata": {},
     "output_type": "execute_result"
    }
   ],
   "source": [
    "unique, stay_counts = np.unique(stay_result, return_counts = True)\n",
    "unique, switch_counts = np.unique(switch_result, return_counts = True)\n",
    "pd.DataFrame(data=[stay_counts, switch_counts ], index=['Stay', 'Switch'], columns=['Lose', 'Win'])"
   ]
  },
  {
   "cell_type": "code",
   "execution_count": 21,
   "metadata": {
    "collapsed": true
   },
   "outputs": [],
   "source": [
    "stay_win = np.cumsum(stay_result)\n",
    "switch_win = np.cumsum(switch_result)        "
   ]
  },
  {
   "cell_type": "code",
   "execution_count": 22,
   "metadata": {},
   "outputs": [
    {
     "data": {
      "image/png": "[encoded data removed]",
      "text/plain": [
       "<matplotlib.figure.Figure at 0x199ef1d76a0>"
      ]
     },
     "metadata": {},
     "output_type": "display_data"
    }
   ],
   "source": [
    "plt.plot(stay_win, label='Stay strategy')\n",
    "plt.plot(switch_win, label='Switch strategy')\n",
    "plt.title('Monty Hall simulation')\n",
    "plt.xlabel('Trials')\n",
    "plt.ylabel('Winnings')\n",
    "plt.legend(loc='best')\n",
    "plt.show()"
   ]
  },
  {
   "cell_type": "markdown",
   "metadata": {},
   "source": [
    "In the Monty Hall simulation, we observe that the sum of winnings of the switch strategy is always greater than the stay strategy.<br>\n",
    "Based on this, we can affirm that the switch strategy is the best option."
   ]
  },
  {
   "cell_type": "code",
   "execution_count": null,
   "metadata": {
    "collapsed": true
   },
   "outputs": [],
   "source": []
  }
 ],
 "metadata": {
  "kernelspec": {
   "display_name": "Python 3",
   "language": "python",
   "name": "python3"
  },
  "language_info": {
   "codemirror_mode": {
    "name": "ipython",
    "version": 3
   },
   "file_extension": ".py",
   "mimetype": "text/x-python",
   "name": "python",
   "nbconvert_exporter": "python",
   "pygments_lexer": "ipython3",
   "version": "3.6.3"
  }
 },
 "nbformat": 4,
 "nbformat_minor": 2
}
